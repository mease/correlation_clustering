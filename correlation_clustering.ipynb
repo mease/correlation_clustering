{
 "cells": [
  {
   "cell_type": "markdown",
   "metadata": {},
   "source": [
    "# Correlation Clustering\n",
    "Correlation clustering techniques provide the ability to cluster similar data into groups *(Bansal, Blum, and Chawla 2004)*. Unlike other clustering algorithms, such as k-means, correlation clustering does not require an initial guess for the number of clusters. Instead, it takes as input a similarity matrix, which provides a similarity measure between each pair of data points. The algorithm produces the optimal clustering based on the similarity matrix. The correlation clustering problem is known to be NP-hard.\n",
    "\n",
    "This notebook will compare various implementations of correlation clustering. Specifically, Integer Linear Programming (ILP) formulations will be compared against weighted Max-SAT formulations *(Berg and Järvisalo 2017)*."
   ]
  },
  {
   "cell_type": "code",
   "execution_count": 1,
   "metadata": {},
   "outputs": [],
   "source": [
    "import numpy as np\n",
    "import math\n",
    "from sklearn.datasets import make_blobs\n",
    "from sklearn.cluster import KMeans\n",
    "import matplotlib.pyplot as plt"
   ]
  },
  {
   "cell_type": "markdown",
   "metadata": {},
   "source": [
    "First, let's generate some clustered data points in two-dimensional space."
   ]
  },
  {
   "cell_type": "code",
   "execution_count": 2,
   "metadata": {},
   "outputs": [],
   "source": [
    "X, y = make_blobs(n_samples=100, centers=5, n_features=2, cluster_std=0.4, random_state=0)\n",
    "\n",
    "# test case for transitivity and unary coding clauses\n",
    "# X, y = make_blobs(n_samples=25, centers=5, n_features=2, cluster_std=0.8, random_state=0)"
   ]
  },
  {
   "cell_type": "code",
   "execution_count": 3,
   "metadata": {},
   "outputs": [
    {
     "data": {
      "image/png": "[encoded data removed]",
      "text/plain": [
       "<Figure size 432x288 with 1 Axes>"
      ]
     },
     "metadata": {
      "needs_background": "light"
     },
     "output_type": "display_data"
    }
   ],
   "source": [
    "plt.scatter(X[:,0], X[:,1], c=y)\n",
    "plt.show()"
   ]
  },
  {
   "cell_type": "markdown",
   "metadata": {},
   "source": [
    "K-means clustering is fast and effective if we know the number of clusters ahead of time."
   ]
  },
  {
   "cell_type": "code",
   "execution_count": 4,
   "metadata": {
    "scrolled": true
   },
   "outputs": [
    {
     "data": {
      "image/png": "[encoded data removed]",
      "text/plain": [
       "<Figure size 432x288 with 1 Axes>"
      ]
     },
     "metadata": {
      "needs_background": "light"
     },
     "output_type": "display_data"
    }
   ],
   "source": [
    "kmeans = KMeans(n_clusters=5)\n",
    "kmeans.fit(X)\n",
    "y_kmeans = kmeans.predict(X)\n",
    "plt.scatter(X[:, 0], X[:, 1], c=y_kmeans)\n",
    "plt.show()"
   ]
  },
  {
   "cell_type": "markdown",
   "metadata": {},
   "source": [
    "But what if we have no good guess for the number of clusters? This is where correlation clustering can be of help. Correlation  clustering takes an $N$ x $N$ similarity matrix $W$ as an input, where $N$ is the number of points in the data set. Each entry $w_{ij}$ is a weight representing the similarity between points $v_i$ and $v_j$. Similar points will have a positive weight. Dissimilar points will have a negative weight. The numerical value of the weight indicates the magnitude of similarity or dissimilarity. The way to calculate $W$ depends on the data. There, are several possible  methods, and examining these is beyond the scope of this project. One nice thing about correlation clustering is that it doesn't care how $W$ was created (though the quality of the results will be directly tied to how well $W$ measures similarity in the data). We will use a very simple measure of similarity based on Euclidean distance, along with a threshold value. If the distance between points is larger than the threshold, they will receive negative similarity values. Distances smaller than the threshold get positive values. The Max-SAT solvers we use later will require integer weights, so we multiply each value by some factor and round."
   ]
  },
  {
   "cell_type": "code",
   "execution_count": 5,
   "metadata": {},
   "outputs": [],
   "source": [
    "def dist(a, b):\n",
    "    return np.linalg.norm(a-b)"
   ]
  },
  {
   "cell_type": "code",
   "execution_count": 6,
   "metadata": {},
   "outputs": [],
   "source": [
    "mult_factor = 100\n",
    "dim = X.shape[0]\n",
    "alpha = 2\n",
    "W = np.zeros((dim, dim))\n",
    "for i in range(dim):\n",
    "    for j in range(dim):\n",
    "        W[i,j] = round((alpha - dist(X[i], X[j])) * mult_factor)"
   ]
  },
  {
   "cell_type": "markdown",
   "metadata": {},
   "source": [
    "## Correlation Clustering Using Integer Linear Programming\n",
    "The ILP formulation is described in *(Berg and Järvisalo 2017)*. We use binary variables $x_{ij} \\in \\{0,1\\}$ for $1 \\leq i < j \\leq N$. Two points $v_i$ and $v_j$ are co-clustered if $x_{ij} = 1$. We set up the objective function to minimize the weight of dissimilar pairs of co-clustered points. We define a transitivity constraint $x_{ij} + x_{jk} - x_{ik} \\leq 1$. This ensures that if $v_i$ and $v_j$ are co-clustered, and $v_j$ and $v_k$ are co-clustered, then $v_i$ and $v_k$ must also be co-clustered. We formulate the ILP as follows:\n",
    "\n",
    "$$\\text{minimize}~\\sum_{\\substack{-\\infty<w_{ij}<0\\\\i<j}} x_{ij}|w_{ij}| - \\sum_{\\substack{\\infty>w_{ij}>0\\\\i<j}} x_{ij}w_{ij}\\\\ \\text{subject to}~x_{ij} + x_{jk} - x_{ik} \\leq 1~\\text{for all distinct}~i, j, k\\\\ x_{ij} \\in \\{0,1\\}~\\text{for all}~i, j$$\n",
    "\n",
    "This produces $O(N^2)$ variables and $O(N^3)$ constraints.\n",
    "\n",
    "To optimize this ILP, we will utilize two state-of-the-art LP solvers: [CPLEX](https://www.ibm.com/products/ilog-cplex-optimization-studio) and [Gurobi](https://www.gurobi.com/)."
   ]
  },
  {
   "cell_type": "markdown",
   "metadata": {},
   "source": [
    "### Write LP  File\n",
    "We will write the ILP to file using a [format](https://www.gurobi.com/documentation/9.0/refman/lp_format.html) that is readable by both CPLEX and Gurobi."
   ]
  },
  {
   "cell_type": "code",
   "execution_count": 7,
   "metadata": {},
   "outputs": [],
   "source": [
    "x = np.zeros(W.shape, dtype=np.int32)\n",
    "bin_vars = []\n",
    "var_num = 0\n",
    "for i in range(dim-1):\n",
    "    for j in range(i+1, dim):\n",
    "        var_num += 1\n",
    "        x[i,j] = var_num\n",
    "        bin_vars.append('x{}'.format(var_num))\n",
    "\n",
    "with open('files/correlation_clustering.lp', 'w') as f:\n",
    "    f.write('Minimize\\n')\n",
    "    \n",
    "    # Objective\n",
    "    obj = ''\n",
    "    for i in range(dim-1):\n",
    "        for j in range(i+1, dim):\n",
    "            if W[i,j] > 0:\n",
    "                obj += ' - {} x{}'.format(int(W[i,j]), x[i,j])\n",
    "            elif W[i,j] < 0:\n",
    "                obj += ' + {} x{}'.format(int(-W[i,j]), x[i,j])\n",
    "    f.write('  {}\\n'.format(obj))\n",
    "    obj = None\n",
    "    \n",
    "\n",
    "    # Constraints\n",
    "    f.write('Subject To\\n')\n",
    "    for i in range(dim-2):\n",
    "        for j in range(i+1, dim-1):\n",
    "            for k in range(j+1, dim):\n",
    "                # Note: only one constraint \"x[i,j] & x[j,k] => x[i,k]\" is not enough!\n",
    "                f.write('  x{} + x{} - x{} <= 1\\n'.format(x[i,j], x[j,k], x[i,k]))\n",
    "                f.write('  x{} + x{} - x{} <= 1\\n'.format(x[i,j], x[i,k], x[j,k]))\n",
    "                f.write('  x{} + x{} - x{} <= 1\\n'.format(x[i,k], x[j,k], x[i,j]))\n",
    "\n",
    "    # Binary\n",
    "    f.write('Binary\\n')\n",
    "    for bin_var in bin_vars:\n",
    "        f.write('{}\\n'.format(bin_var))\n",
    "    bin_vars=None\n",
    "    \n",
    "    f.write('End\\n')"
   ]
  },
  {
   "cell_type": "markdown",
   "metadata": {},
   "source": [
    "### CPLEX\n",
    "We optimize the ILP using CPLEX:\n",
    "\n",
    "`\n",
    "cplex -c \"read files/correlation_clustering.lp\" \"optimize\" \"display solution variables -\" > files\\cplex.sol\n",
    "`\n",
    "\n",
    "The folowing code reads in the resulting solution and sorts the points into their assigned clusters."
   ]
  },
  {
   "cell_type": "code",
   "execution_count": 8,
   "metadata": {},
   "outputs": [
    {
     "name": "stdout",
     "output_type": "stream",
     "text": [
      "Solution time =    0.20 sec.  Iterations = 54  Nodes = 0\n",
      "\n",
      "Found 5 clusters\n"
     ]
    }
   ],
   "source": [
    "cplex_out = np.zeros(var_num, dtype=np.int32)\n",
    "with open('files/cplex.sol', 'r') as f:\n",
    "    while True: \n",
    "        line = f.readline()\n",
    "        if not line:\n",
    "            break\n",
    "        if line.startswith('Solution time'):\n",
    "            print(line)\n",
    "        if line.startswith('Variable Name'):\n",
    "            break\n",
    "        \n",
    "    for i in range(dim-1):\n",
    "        for j in range(i+1, dim):\n",
    "            line = f.readline()\n",
    "            if line.startswith('x'):\n",
    "                var_sol = line.split()\n",
    "                xi = int(var_sol[0][1:])\n",
    "                xi_val = int(var_sol[1][0])\n",
    "                cplex_out[xi-1] = xi_val\n",
    "\n",
    "x = np.zeros(W.shape, dtype=np.int32)\n",
    "var_i = 0\n",
    "for i in range(dim-1):\n",
    "    for j in range(i+1, dim):\n",
    "        x[i,j] = cplex_out[var_i]\n",
    "        var_i += 1\n",
    "\n",
    "\n",
    "# Sort into clusters\n",
    "assigned = []\n",
    "for i in range(dim):\n",
    "    assigned.append(False)\n",
    "\n",
    "clusters = []\n",
    "for i in range(dim-1):\n",
    "    cluster = []\n",
    "    for j in range(i+1, dim):\n",
    "        if x[i,j] == 1:\n",
    "            if not assigned[i]:\n",
    "                cluster.append(X[i])\n",
    "                assigned[i] = True\n",
    "            if not assigned[j]:\n",
    "                cluster.append(X[j])\n",
    "                assigned[j] = True\n",
    "    if len(cluster) > 0:\n",
    "        clusters.append(cluster)\n",
    "\n",
    "print('Found {} clusters'.format(len(clusters)))"
   ]
  },
  {
   "cell_type": "code",
   "execution_count": 9,
   "metadata": {},
   "outputs": [
    {
     "data": {
      "image/png": "[encoded data removed]",
      "text/plain": [
       "<Figure size 432x288 with 1 Axes>"
      ]
     },
     "metadata": {
      "needs_background": "light"
     },
     "output_type": "display_data"
    }
   ],
   "source": [
    "for cluster in clusters:\n",
    "    cluster_np = np.array(cluster)\n",
    "    plt.scatter(cluster_np[:,0], cluster_np[:,1])\n",
    "plt.show()"
   ]
  },
  {
   "cell_type": "markdown",
   "metadata": {},
   "source": [
    "Memory consumption increases rapidly as the number of data points increase. I was unable to solve problems with more than 600 points without surpassing my machine's available memory. Note that neither CPLEX nor Gurobi report their memory usage. Memory usage was estimated by manually monitoring system resources. The solvers execute very quickly on small data sets, so I was unable to obtain estimates for sizes 50 and 100.\n",
    "\n",
    "CPLEX results for test data sets:\n",
    "\n",
    "| Samples | Time (s) | Mem(MB) |\n",
    "|---------|----------|---------|\n",
    "| 50      | 0.01     | -       |\n",
    "| 100     | 0.20     | -       |\n",
    "| 200     | 2.39     | 302     |\n",
    "| 300     | 9.36     | 1038    |\n",
    "| 400     | 27.98    | 2444    |\n",
    "| 500     | 65.56    | 5593    |\n",
    "| 600     | 140.08   | 10699   |"
   ]
  },
  {
   "cell_type": "markdown",
   "metadata": {},
   "source": [
    "### Gurobi\n",
    "We optimize the ILP using Gurobi:\n",
    "\n",
    "`\n",
    "gurobi_cl ResultFile=\"files\\gurobi.sol\" \"files\\correlation_clustering.lp\"\n",
    "`\n",
    "\n",
    "The folowing code reads in the resulting solution and sorts the points into their assigned clusters."
   ]
  },
  {
   "cell_type": "code",
   "execution_count": 10,
   "metadata": {},
   "outputs": [
    {
     "name": "stdout",
     "output_type": "stream",
     "text": [
      "Found 5 clusters\n"
     ]
    }
   ],
   "source": [
    "gurobi_out = np.zeros(var_num, dtype=np.int32)\n",
    "with open('files/gurobi.sol', 'r') as f:\n",
    "    f.readline()\n",
    "        \n",
    "    for i in range(dim-1):\n",
    "        for j in range(i+1, dim):\n",
    "            line = f.readline()\n",
    "            if line.startswith('x'):\n",
    "                var_sol = line.split()\n",
    "                xi = int(var_sol[0][1:])\n",
    "                xi_val = int(var_sol[1][0])\n",
    "                cplex_out[xi-1] = xi_val\n",
    "\n",
    "x = np.zeros(W.shape, dtype=np.int32)\n",
    "var_i = 0\n",
    "for i in range(dim-1):\n",
    "    for j in range(i+1, dim):\n",
    "        x[i,j] = cplex_out[var_i]\n",
    "        var_i += 1\n",
    "\n",
    "# Sort into clusters\n",
    "assigned = []\n",
    "for i in range(dim):\n",
    "    assigned.append(False)\n",
    "\n",
    "clusters = []\n",
    "for i in range(dim-1):\n",
    "    cluster = []\n",
    "    for j in range(i+1, dim):\n",
    "        if x[i,j] == 1:\n",
    "            if not assigned[i]:\n",
    "                cluster.append(X[i])\n",
    "                assigned[i] = True\n",
    "            if not assigned[j]:\n",
    "                cluster.append(X[j])\n",
    "                assigned[j] = True\n",
    "    if len(cluster) > 0:\n",
    "        clusters.append(cluster)\n",
    "\n",
    "print('Found {} clusters'.format(len(clusters)))"
   ]
  },
  {
   "cell_type": "code",
   "execution_count": 11,
   "metadata": {
    "scrolled": false
   },
   "outputs": [
    {
     "data": {
      "image/png": "[encoded data removed]",
      "text/plain": [
       "<Figure size 432x288 with 1 Axes>"
      ]
     },
     "metadata": {
      "needs_background": "light"
     },
     "output_type": "display_data"
    }
   ],
   "source": [
    "for cluster in clusters:\n",
    "    cluster_np = np.array(cluster)\n",
    "    plt.scatter(cluster_np[:,0], cluster_np[:,1])\n",
    "plt.show()"
   ]
  },
  {
   "cell_type": "markdown",
   "metadata": {},
   "source": [
    "Gurobi requires even more memory than CPLEX, and solve time is much higher. I was unable to solve problems with more than 500 points without surpassing my machine's available memory.\n",
    "\n",
    "Gurobi results for test data sets:\n",
    "\n",
    "| Samples | Time (s) | Mem (MB) |\n",
    "|---------|----------|----------|\n",
    "| 50      | 0.02     | -        |\n",
    "| 100     | 0.42     | -        |\n",
    "| 200     | 6.91     | 425      |\n",
    "| 300     | 33.31    | 1480     |\n",
    "| 400     | 113.38   | 3643     |\n",
    "| 500     | 251.72   | 7241     |"
   ]
  },
  {
   "cell_type": "markdown",
   "metadata": {},
   "source": [
    "## Correllation Clustering Using MaxSAT Encoding\n",
    "The [Maximum Satisfiability](https://en.wikipedia.org/wiki/Maximum_satisfiability_problem) (MaxSAT) problem is defined as follows: given a formula written in [conjunctive normal form](https://en.wikipedia.org/wiki/Conjunctive_normal_form), find some assignment of variables that results in the maximum number of clauses evaluating to true.\n",
    "\n",
    "An extension of this is *weighted* MaxSat, where each clause is assigned a non-negative weight. We seek to maximize the sum of the weights of satisfied clauses.\n",
    "\n",
    "To implement correlation clustering, we utilize *partial weighted* MaxSAT. In the partial weighted MaxSAT problem, we have a set of *hard* clauses, and a set of *soft* clauses. A solution must satisfy *all* of the hard clauses. We seek to maximize the sum of the weights of all satisfied soft clauses *(Berg and Järvisalo 2017)*.\n",
    "\n",
    "We will encode our problem as a weighted partial MaxSAT and utilize [UWrMaxSat](https://github.com/marekpiotrow/UWrMaxSat) to optimize. UWrMaxSat was a top contender in the [2019 MaxSat Evaluation](https://maxsat-evaluations.github.io/2019/)."
   ]
  },
  {
   "cell_type": "markdown",
   "metadata": {},
   "source": [
    "### Helper Methods\n",
    "Most MaxSat solvers take an input file in the [DIMACS](https://maxsat-evaluations.github.io/2019/rules.html#input) format. Solution output is also in this format. The folowing  method reads the output file and returns a dictionary that maps variables to their solution values (true or  false)."
   ]
  },
  {
   "cell_type": "code",
   "execution_count": 12,
   "metadata": {},
   "outputs": [],
   "source": [
    "def read_solution(filename):\n",
    "    \"\"\"\n",
    "    Read MaxSAT solution file.\n",
    "\n",
    "    Returns:\n",
    "        dict: dictionary indicating which variables are True or False.\n",
    "    \"\"\"\n",
    "    solution = None\n",
    "    with open(filename, 'r') as f:\n",
    "        while True: \n",
    "            line = f.readline()  \n",
    "            if not line: \n",
    "                break\n",
    "            if line.startswith('c ') or line.startswith('s '):\n",
    "                print(line.strip())\n",
    "            if line.startswith('v '):\n",
    "                solution = line.strip().split(' ', 1)[1]\n",
    "\n",
    "    sol_arr = map(int, solution.split(' '))\n",
    "    inc_dict = dict()\n",
    "    for sol in sol_arr:\n",
    "        if sol > 0:\n",
    "            inc_dict[sol] = True\n",
    "        else:\n",
    "            inc_dict[-sol] = False\n",
    "    \n",
    "    return inc_dict"
   ]
  },
  {
   "cell_type": "markdown",
   "metadata": {},
   "source": [
    "For weighted MaxSAT, solvers require that hard clauses be assigned a weight that is greater than the sum of all soft clause weights. We calculate hard clause weight below."
   ]
  },
  {
   "cell_type": "code",
   "execution_count": 13,
   "metadata": {},
   "outputs": [],
   "source": [
    "def get_hard_clause_weight(W):\n",
    "    dim = W.shape[0]\n",
    "    hard_cluase_weight = 0\n",
    "    W_abs = np.abs(W)\n",
    "    for i in range(dim-1):\n",
    "        for j in range(i+1, dim):\n",
    "            hard_cluase_weight += W_abs[i,j]\n",
    "    return int(hard_cluase_weight + 1)"
   ]
  },
  {
   "cell_type": "markdown",
   "metadata": {},
   "source": [
    "### Transitive Encoding\n",
    "We must encode our clustering problem into conjunctive normal form. We will first try the *transitive* encoding *(Berg and Järvisalo 2017)*. This encoding has hard clauses analogous to the ILP transitive constraints. The soft clauses are analogous to the ILP objective function.\n",
    "\n",
    "**Hard Clauses:**  \n",
    "$(\\neg x_{ij} \\vee \\neg x_{jk} \\vee x_{ik}) \\text{ for all } (v_i,v_j,v_k) \\in V^3 \\text{ where  } i,j,k \\text{ are distinct}$\n",
    "\n",
    "**Soft Clauses:**  \n",
    "$(x_{ij}) \\text{ for all similar } v_i, v_j \\text{ s.t. } i<j$  \n",
    "$(\\neg x_{ij}) \\text{ for all dissimilar } v_i, v_j \\text{ s.t. } i<j$\n",
    "\n",
    "**Soft Clause Weight:**  \n",
    "$w_{ij} \\text{ for all similar } v_i, v_j \\text{ s.t. } i<j$  \n",
    "$|w_{ij}| \\text{ for all dissimilar } v_i, v_j \\text{ s.t. } i<j$\n",
    "\n",
    "This encoding produces $O(N^2)$ variables and $O(N^3)$ clauses."
   ]
  },
  {
   "cell_type": "code",
   "execution_count": 14,
   "metadata": {},
   "outputs": [],
   "source": [
    "hard_clause_weight = get_hard_clause_weight(W)\n",
    "\n",
    "# Map variables to integers for WDIMACS format\n",
    "int_map = np.zeros((dim, dim), dtype=np.int32)\n",
    "var_num = 0\n",
    "for i in range(dim-1):\n",
    "    for j in range(i+1, dim):\n",
    "        var_num += 1\n",
    "        int_map[i,j] = var_num\n",
    "\n",
    "# Hard clauses\n",
    "hard_clauses = []\n",
    "for i in range(dim-2):\n",
    "    for j in range(i+1, dim-1):\n",
    "        for k in range(j+1, dim):\n",
    "            # Note: only one constraint \"x[i,j] & x[j,k] => x[i,k]\" is not enough (see the test case at the top)\n",
    "            hard_clauses.append('{} -{} -{} {} 0\\n'.format(hard_clause_weight, int_map[i,j], int_map[j,k], int_map[i,k]))\n",
    "            hard_clauses.append('{} -{} -{} {} 0\\n'.format(hard_clause_weight, int_map[i,j], int_map[i,k], int_map[j,k]))\n",
    "            hard_clauses.append('{} -{} -{} {} 0\\n'.format(hard_clause_weight, int_map[i,k], int_map[j,k], int_map[i,j]))\n",
    "\n",
    "# Soft clauses\n",
    "soft_clauses= []\n",
    "for i in range(dim-1):\n",
    "    for j in range(i+1, dim):\n",
    "        if W[i,j] > 0:\n",
    "            soft_clauses.append('{} {} 0\\n'.format(int(W[i,j]), int_map[i,j]))\n",
    "        elif W[i,j] < 0:\n",
    "            soft_clauses.append('{} -{} 0\\n'.format(int(-W[i,j]), int_map[i,j]))\n",
    "\n",
    "with open('files/maxsat_transitive.wcnf', 'w') as f:\n",
    "    f.write('c Correlation Clustering Max-SAT Transitive\\n')\n",
    "    f.write('c\\n')\n",
    "    f.write('p wcnf {} {} {}\\n'.format(var_num, len(hard_clauses) + len(soft_clauses), hard_clause_weight))\n",
    "\n",
    "    # Hard clauses\n",
    "    for clause in hard_clauses:\n",
    "        f.write(clause)\n",
    "\n",
    "    # Soft clauses\n",
    "    for clause in soft_clauses:\n",
    "        f.write(clause)\n",
    "\n",
    "hard_clauses = None\n",
    "soft_clauses = None"
   ]
  },
  {
   "cell_type": "markdown",
   "metadata": {},
   "source": [
    "We optimize the transitive encoding using UWrMaxSat:\n",
    "\n",
    "`./uwrmaxsat <input.wcnf> -m > <outfile>`\n",
    "\n",
    "The solution file is read."
   ]
  },
  {
   "cell_type": "code",
   "execution_count": 15,
   "metadata": {},
   "outputs": [
    {
     "name": "stdout",
     "output_type": "stream",
     "text": [
      "c Parsing MaxSAT file...\n",
      "c ============================[  Problem Statistics ]============================\n",
      "c |  Number of variables:          4950                                         |\n",
      "c |  Number of clauses:          166647 (incl.         4947 soft in queue)      |\n",
      "c ===============================================================================\n",
      "c Using COMiniSatPS SAT solver by Chanseok Oh (2016)\n",
      "c \u001b[1mOptimal solution: 784\u001b[0m\n",
      "c _______________________________________________________________________________\n",
      "c\n",
      "c restarts               : 698\n",
      "c conflicts              : 2              (4 /sec)\n",
      "c decisions              : 305135         (0.00 % random) (557961 /sec)\n",
      "c propagations           : 4002367        (7318614 /sec)\n",
      "c conflict literals      : 9              (0.00 % deleted)\n",
      "c Memory used            : 21.80 MB\n",
      "c CPU time               : 0.546875 s\n",
      "c OptExp Enc: Srt/BDD/Add: 23 0 0\n",
      "c _______________________________________________________________________________\n",
      "s OPTIMUM FOUND\n"
     ]
    }
   ],
   "source": [
    "inc_dict = read_solution('files/maxsat_transitive.sol')"
   ]
  },
  {
   "cell_type": "markdown",
   "metadata": {},
   "source": [
    "We sort the points into clusters in the same way we did for the ILP solutions."
   ]
  },
  {
   "cell_type": "code",
   "execution_count": 16,
   "metadata": {},
   "outputs": [
    {
     "name": "stdout",
     "output_type": "stream",
     "text": [
      "Found 5 clusters\n"
     ]
    }
   ],
   "source": [
    "assigned = []\n",
    "for i in range(dim):\n",
    "    assigned.append(False)\n",
    "\n",
    "clusters = []\n",
    "for i in range(dim-1):\n",
    "    cluster = []\n",
    "    for j in range(i+1, dim):\n",
    "        if inc_dict[int_map[i,j]]:\n",
    "            if not assigned[i]:\n",
    "                cluster.append(X[i])\n",
    "                assigned[i] = True\n",
    "            if not assigned[j]:\n",
    "                cluster.append(X[j])\n",
    "                assigned[j] = True\n",
    "    if len(cluster) > 0:\n",
    "        clusters.append(cluster)\n",
    "\n",
    "# make `x` matrix\n",
    "x = np.zeros(W.shape, dtype=np.int32)\n",
    "for i in range(dim-1):\n",
    "    for j in range(i+1, dim):\n",
    "        if inc_dict[int_map[i,j]]:\n",
    "            x[i,j] = 1\n",
    "\n",
    "# test the transitivity of `x`\n",
    "for i in range(dim-2):\n",
    "    for j in range(i+1, dim-1):\n",
    "        for k in range(j+1, dim):\n",
    "            if x[i,j] == 1 and x[j,k] == 1 and x[i,k] == 0:\n",
    "                print(f\"non-transitive: {i} {j} {k}\")\n",
    "            if x[i,j] == 1 and x[j,k] == 0 and x[i,k] == 1:\n",
    "                print(f\"non-transitive: {i} {j} {k}\")\n",
    "            if x[i,j] == 0 and x[j,k] == 1 and x[i,k] == 1:\n",
    "                print(f\"non-transitive: {i} {j} {k}\")\n",
    "\n",
    "\n",
    "print('Found {} clusters'.format(len(clusters)))"
   ]
  },
  {
   "cell_type": "code",
   "execution_count": 17,
   "metadata": {
    "scrolled": true
   },
   "outputs": [
    {
     "data": {
      "image/png": "[encoded data removed]",
      "text/plain": [
       "<Figure size 432x288 with 1 Axes>"
      ]
     },
     "metadata": {
      "needs_background": "light"
     },
     "output_type": "display_data"
    }
   ],
   "source": [
    "for cluster in clusters:\n",
    "    cluster_np = np.array(cluster)\n",
    "    plt.scatter(cluster_np[:,0], cluster_np[:,1])\n",
    "plt.show()"
   ]
  },
  {
   "cell_type": "markdown",
   "metadata": {},
   "source": [
    "Below are the results for the test data sets using the transitive encoding:\n",
    "\n",
    "| Samples | Time (s) | Memory (MB) |\n",
    "|---------|----------|-------------|\n",
    "| 50      | 0.04     | 13.66       |\n",
    "| 100     | 0.54     | 21.80       |\n",
    "| 200     | 6.81     | 91.75       |\n",
    "| 300     | 22.85    | 336.73      |\n",
    "| 400     | 80.53    | 543.36      |\n",
    "| 500     | 200.60   | 1059.09     |\n",
    "| 600     | 379.14   | 2227.91     |\n",
    "| 700     | 648.51   | 3830.15     |"
   ]
  },
  {
   "cell_type": "markdown",
   "metadata": {},
   "source": [
    "### Unary Encoding\n",
    "We can improve the efficiency of the algorithm by setting an upper limit on the number of clusters. We define this maximum as $K \\leq N$. With this, we can formulate the *unary* encoding *(Berg and Järvisalo 2017)*. We use $N \\cdot K$ variables $y_i^k$. We encode logic to ensure that $\\sum_{k=1}^Ky_i^k=1$ for all $i = 1,\\ldots,N$. If $y_i^k=1$ then $v_i$ is assigned to cluster $k$. The encoding  makes use of a few additional auxiliary variables. For details, refer to the referenced paper.\n",
    "\n",
    "This encoding produces $O(E \\cdot K + N \\cdot K)$ variables and $O(E \\cdot K)$ clauses where $E$ is the number of nonzero values in $W$. This makes it more compact than the transitive."
   ]
  },
  {
   "cell_type": "code",
   "execution_count": 18,
   "metadata": {},
   "outputs": [],
   "source": [
    "K = 8\n",
    "hard_clause_weight = get_hard_clause_weight(W)\n",
    "\n",
    "# Map variables to integers for WDIMACS format\n",
    "var_num = 0\n",
    "\n",
    "# Auxilary variables for unary encoding\n",
    "y = []\n",
    "for i in range(dim):\n",
    "    yi =[]\n",
    "    for k in range(K):\n",
    "        var_num += 1\n",
    "        yi.append(var_num)\n",
    "    y.append(yi)\n",
    "\n",
    "s = []\n",
    "for i in range(dim):\n",
    "    si = []\n",
    "    for k in range(K-1):\n",
    "        var_num += 1\n",
    "        si.append(var_num)\n",
    "    s.append(si)\n",
    "\n",
    "A = np.zeros((dim, dim, K), dtype=np.int32)\n",
    "for i in range(dim-1):\n",
    "    for j in range(i+1, dim):\n",
    "        for k in range(K):\n",
    "            var_num += 1\n",
    "            A[i,j,k] = var_num\n",
    "\n",
    "D = np.zeros((dim, dim), dtype=np.int32)\n",
    "for i in range(dim-1):\n",
    "    for j in range(i+1, dim):\n",
    "        var_num += 1\n",
    "        D[i,j] = var_num\n",
    "\n",
    "# Hard clauses\n",
    "hard_clauses = []\n",
    "\n",
    "# ExactlyOne(i)\n",
    "for i in range(dim):\n",
    "    hard_clauses.append('{} -{} {} 0\\n'.format(hard_clause_weight, y[i][0], s[i][0]))\n",
    "    hard_clauses.append('{} -{} -{} 0\\n'.format(hard_clause_weight, y[i][K-1], s[i][K-2]))\n",
    "    for k in range(1, K-1):\n",
    "        hard_clauses.append('{} -{} {} 0\\n'.format(hard_clause_weight, y[i][k], s[i][k]))\n",
    "        hard_clauses.append('{} -{} {} 0\\n'.format(hard_clause_weight, s[i][k-1], s[i][k]))\n",
    "        hard_clauses.append('{} -{} -{} 0\\n'.format(hard_clause_weight, y[i][k], s[i][k-1]))\n",
    "    # Also require that sum(y[i][:]) >= 1 (see the test case at the top)\n",
    "    or_clause = '{}'.format(hard_clause_weight)\n",
    "    for k in range(K):\n",
    "        or_clause += ' {}'.format(y[i][k])\n",
    "    hard_clauses.append(or_clause + ' 0\\n')\n",
    "\n",
    "for i in range(dim-1):\n",
    "    for j in range(i+1, dim):\n",
    "        if W[i,j] > 0:\n",
    "            for k in range(K):\n",
    "                # HardSimilar(i,j,k)\n",
    "                hard_clauses.append('{} -{} {} 0\\n'.format(hard_clause_weight, A[i,j,k], y[i][k]))\n",
    "                hard_clauses.append('{} -{} {} 0\\n'.format(hard_clause_weight, A[i,j,k], y[j][k]))\n",
    "                hard_clauses.append('{} {} -{} -{} 0\\n'.format(hard_clause_weight, A[i,j,k], y[i][k], y[j][k]))\n",
    "        elif W[i,j] < 0:\n",
    "            for k in range(K):\n",
    "                # HardDissimilar(i,j,k)\n",
    "                hard_clauses.append('{} {} -{} -{} 0\\n'.format(hard_clause_weight, D[i,j], y[i][k], y[j][k]))\n",
    "\n",
    "# Soft clauses\n",
    "soft_clauses= []\n",
    "for i in range(dim-1):\n",
    "    for j in range(i+1, dim):\n",
    "        if W[i,j] > 0:\n",
    "            # SoftSimilar(i,j)\n",
    "            soft_sim = '{} '.format(int(W[i,j]))\n",
    "            for k in range(K):\n",
    "                soft_sim += '{} '.format(A[i,j,k])\n",
    "            soft_sim += '0\\n'\n",
    "            soft_clauses.append(soft_sim)\n",
    "        elif W[i,j] < 0:\n",
    "            # SoftDissimilar(i,j)\n",
    "            soft_clauses.append('{} -{} 0\\n'.format(int(-W[i,j]), D[i,j]))\n",
    "\n",
    "with open('files/maxsat_unary.wcnf', 'w') as f:\n",
    "    f.write('c Correlation Clustering Max-SAT Unary\\n')\n",
    "    f.write('c\\n')\n",
    "    f.write('p wcnf {} {} {}\\n'.format(var_num, len(hard_clauses) + len(soft_clauses), hard_clause_weight))\n",
    "\n",
    "    # Hard clauses\n",
    "    for clause in hard_clauses:\n",
    "        f.write(clause)\n",
    "\n",
    "    # Soft clauses\n",
    "    for clause in soft_clauses:\n",
    "        f.write(clause)\n",
    "\n",
    "hard_clauses = None\n",
    "soft_clauses = None"
   ]
  },
  {
   "cell_type": "code",
   "execution_count": 19,
   "metadata": {},
   "outputs": [
    {
     "name": "stdout",
     "output_type": "stream",
     "text": [
      "c Parsing MaxSAT file...\n",
      "c ============================[  Problem Statistics ]============================\n",
      "c |  Number of variables:         14361                                         |\n",
      "c |  Number of clauses:           62363 (incl.         4947 soft in queue)      |\n",
      "c ===============================================================================\n",
      "c Using COMiniSatPS SAT solver by Chanseok Oh (2016)\n",
      "c \u001b[1mOptimal solution: 955\u001b[0m\n",
      "c _______________________________________________________________________________\n",
      "c\n",
      "c restarts               : 1028\n",
      "c conflicts              : 1465           (1803 /sec)\n",
      "c decisions              : 4613417        (0.00 % random) (5678052 /sec)\n",
      "c propagations           : 12187663       (15000201 /sec)\n",
      "c conflict literals      : 13927          (9.68 % deleted)\n",
      "c Memory used            : 32.61 MB\n",
      "c CPU time               : 0.8125 s\n",
      "c OptExp Enc: Srt/BDD/Add: 32 0 0\n",
      "c _______________________________________________________________________________\n",
      "s OPTIMUM FOUND\n"
     ]
    }
   ],
   "source": [
    "inc_dict = read_solution('files/maxsat_unary.sol')"
   ]
  },
  {
   "cell_type": "code",
   "execution_count": 20,
   "metadata": {},
   "outputs": [
    {
     "name": "stdout",
     "output_type": "stream",
     "text": [
      "Found 5 clusters\n"
     ]
    }
   ],
   "source": [
    "y_unary = np.zeros(dim)\n",
    "var_i=0\n",
    "for i in range(dim):\n",
    "    count = 0\n",
    "    for k in range(K):\n",
    "        var_i += 1\n",
    "        if inc_dict[var_i] == True:\n",
    "            y_unary[i] = k\n",
    "            count += 1\n",
    "    if count != 1:\n",
    "        print('y_{} assigned {} clusters'.format(i, count))\n",
    "\n",
    "print('Found {} clusters'.format(len(set(y_unary))))"
   ]
  },
  {
   "cell_type": "code",
   "execution_count": 21,
   "metadata": {},
   "outputs": [
    {
     "data": {
      "image/png": "[encoded data removed]",
      "text/plain": [
       "<Figure size 432x288 with 1 Axes>"
      ]
     },
     "metadata": {
      "needs_background": "light"
     },
     "output_type": "display_data"
    }
   ],
   "source": [
    "plt.scatter(X[:,0], X[:,1], c=y_unary)\n",
    "plt.show()"
   ]
  },
  {
   "cell_type": "markdown",
   "metadata": {},
   "source": [
    "Below are the results for the test data sets using the unary encoding:\n",
    "\n",
    "| Samples | Time (s)  | Memory (MB) |\n",
    "|---------|-----------|-------------|\n",
    "| 50      | 0.07      | 17.12       |\n",
    "| 100     | 0.81      | 32.61       |\n",
    "| 200     | 6.32      | 92.16       |\n",
    "| 300     | 14.12     | 187.04      |\n",
    "| 400     | 69.23     | 342.77      |\n",
    "| 500     | 170.45    | 513.50      |\n",
    "| 600     | 265.98    | 735.01      |\n",
    "| 700     | 417.42    | 924.57      |"
   ]
  },
  {
   "cell_type": "markdown",
   "metadata": {},
   "source": [
    "### Binary Encoding\n",
    "The *binary* encoding *(Berg and Järvisalo 2017)* is even more compact than the unary. We choose a maximum number of clusters $K = 2^a \\leq N$. We define variables $b_i^k$ for $i=1,\\ldots,N$ and $k=1,\\ldots,a$. These variables can be interpreted as the bits in a binary integer. Combining the bits $b_i^a,\\ldots,b_i^1$ gives a binary value for the cluster number to which we will assign $v_i$. Like the unary encoding, the binary encoding employs several additional auxiliary variables. See the referenced paper for a detailed description.\n",
    "\n",
    "This encoding produces $O(E + N \\cdot log_2K)$ variables and $O(E \\cdot log_2K)$ clauses where $E$ is the number of nonzero values in $W$. We have managed to reduce the size of our encoding even more."
   ]
  },
  {
   "cell_type": "code",
   "execution_count": 22,
   "metadata": {},
   "outputs": [],
   "source": [
    "hard_clause_weight = get_hard_clause_weight(W)\n",
    "a = 3\n",
    "K = 2**a\n",
    "assert(K <= dim)\n",
    "\n",
    "var_num = 0\n",
    "\n",
    "# Binary variables (b)\n",
    "b = []\n",
    "for i in range(dim):\n",
    "    bi = []\n",
    "    for k in range(a):\n",
    "        var_num += 1\n",
    "        bi.append(var_num)\n",
    "    b.append(bi)\n",
    "\n",
    "# Auxilary variables (EQ, S)\n",
    "EQ = np.zeros((dim, dim, a), dtype=np.int32)\n",
    "for i in range(dim-1):\n",
    "    for j in range(i+1, dim):\n",
    "        for k in range(a):\n",
    "            var_num += 1\n",
    "            EQ[i,j,k] = var_num\n",
    "\n",
    "S = np.zeros((dim, dim), dtype=np.int32)\n",
    "for i in range(dim-1):\n",
    "    for j in range(i+1, dim):\n",
    "        var_num += 1\n",
    "        S[i,j] = var_num\n",
    "\n",
    "# Hard clauses\n",
    "hard_clauses = []\n",
    "for i in range(dim-1):\n",
    "    for j in range(i+1, dim):\n",
    "        same_cluster_hard = '{} {} '.format(hard_clause_weight, S[i,j])\n",
    "        for k in range(a):\n",
    "            # Equality(i,j,k)\n",
    "            hard_clauses.append('{} {} {} {} 0\\n'.format(hard_clause_weight, EQ[i,j,k], b[i][k], b[j][k]))\n",
    "            hard_clauses.append('{} {} -{} -{} 0\\n'.format(hard_clause_weight, EQ[i,j,k], b[i][k], b[j][k]))\n",
    "            hard_clauses.append('{} -{} -{} {} 0\\n'.format(hard_clause_weight, EQ[i,j,k], b[i][k], b[j][k]))\n",
    "            hard_clauses.append('{} -{} {} -{} 0\\n'.format(hard_clause_weight, EQ[i,j,k], b[i][k], b[j][k]))\n",
    "\n",
    "            # SameCluster(i,j)\n",
    "            hard_clauses.append('{} -{} {} 0\\n'.format(hard_clause_weight, S[i,j], EQ[i,j,k]))\n",
    "            same_cluster_hard += '-{} '.format(EQ[i,j,k])\n",
    "        same_cluster_hard += '0\\n'\n",
    "        hard_clauses.append(same_cluster_hard)\n",
    "\n",
    "# Soft clauses\n",
    "soft_clauses= []\n",
    "for i in range(dim-1):\n",
    "    for j in range(i+1, dim):\n",
    "        if W[i,j] > 0:\n",
    "            soft_clauses.append('{} {} 0\\n'.format(int(W[i,j]), S[i,j]))\n",
    "        elif W[i,j] < 0:\n",
    "            soft_clauses.append('{} -{} 0\\n'.format(int(-W[i,j]), S[i,j]))\n",
    "\n",
    "# Write file\n",
    "with open('files/maxsat_binary.wcnf', 'w') as f:\n",
    "    f.write('c Correlation Clustering Max-SAT Binary\\n')\n",
    "    f.write('c\\n')\n",
    "    f.write('p wcnf {} {} {}\\n'.format(var_num, len(hard_clauses) + len(soft_clauses), hard_clause_weight))\n",
    "\n",
    "    # Hard clauses\n",
    "    for clause in hard_clauses:\n",
    "        f.write(clause)\n",
    "\n",
    "    # Soft clauses\n",
    "    for clause in soft_clauses:\n",
    "        f.write(clause)\n",
    "\n",
    "hard_clauses = None\n",
    "soft_clauses = None"
   ]
  },
  {
   "cell_type": "code",
   "execution_count": 23,
   "metadata": {},
   "outputs": [
    {
     "name": "stdout",
     "output_type": "stream",
     "text": [
      "c Parsing MaxSAT file...\n",
      "c ============================[  Problem Statistics ]============================\n",
      "c |  Number of variables:         20100                                         |\n",
      "c |  Number of clauses:           84147 (incl.         4947 soft in queue)      |\n",
      "c ===============================================================================\n",
      "c Using COMiniSatPS SAT solver by Chanseok Oh (2016)\n",
      "c \u001b[1mOptimal solution: 955\u001b[0m\n",
      "c _______________________________________________________________________________\n",
      "c\n",
      "c restarts               : 1030\n",
      "c conflicts              : 2072           (2600 /sec)\n",
      "c decisions              : 273513         (0.00 % random) (343232 /sec)\n",
      "c propagations           : 4580508        (5748088 /sec)\n",
      "c conflict literals      : 17128          (7.28 % deleted)\n",
      "c Memory used            : 33.40 MB\n",
      "c CPU time               : 0.796875 s\n",
      "c OptExp Enc: Srt/BDD/Add: 28 0 0\n",
      "c _______________________________________________________________________________\n",
      "s OPTIMUM FOUND\n"
     ]
    }
   ],
   "source": [
    "inc_dict = read_solution('files/maxsat_binary.sol')"
   ]
  },
  {
   "cell_type": "code",
   "execution_count": 24,
   "metadata": {},
   "outputs": [
    {
     "name": "stdout",
     "output_type": "stream",
     "text": [
      "Found 5 clusters\n"
     ]
    }
   ],
   "source": [
    "y_bin = []\n",
    "var_i = 0\n",
    "for i in range(dim):\n",
    "    c = 0\n",
    "    for k in range(a):\n",
    "        var_i += 1\n",
    "        if inc_dict[var_i] == True:\n",
    "            c += 2**k\n",
    "    y_bin.append(c + 1)\n",
    "print('Found {} clusters'.format(len(set(y_bin))))"
   ]
  },
  {
   "cell_type": "code",
   "execution_count": 25,
   "metadata": {
    "scrolled": true
   },
   "outputs": [
    {
     "data": {
      "image/png": "[encoded data removed]",
      "text/plain": [
       "<Figure size 432x288 with 1 Axes>"
      ]
     },
     "metadata": {
      "needs_background": "light"
     },
     "output_type": "display_data"
    }
   ],
   "source": [
    "plt.scatter(X[:,0], X[:,1], c=y_bin)\n",
    "plt.show()"
   ]
  },
  {
   "cell_type": "markdown",
   "metadata": {},
   "source": [
    "Below are the results for the test data sets using the binary encoding:\n",
    "\n",
    "| Samples | Time (s) | Memory (MB) |\n",
    "|---------|----------|-------------|\n",
    "| 50      | 0.12     | 16.82       |\n",
    "| 100     | 0.79     | 33.40       |\n",
    "| 200     | 6.06     | 95.45       |\n",
    "| 300     | 12.79    | 210.08      |\n",
    "| 400     | 56.67    | 318.43      |\n",
    "| 500     | 121.76   | 491.46      |\n",
    "| 600     | 229.31   | 729.07      |\n",
    "| 700     | 375.54   | 891.93      |"
   ]
  },
  {
   "cell_type": "markdown",
   "metadata": {},
   "source": [
    "## Algorithm Comparison\n",
    "We compare results for each algorithm tested. The X's in the plots indicate the data set size after which I was unable to test further due to memory constraints."
   ]
  },
  {
   "cell_type": "code",
   "execution_count": 26,
   "metadata": {},
   "outputs": [
    {
     "data": {
      "image/png": "[encoded data removed]",
      "text/plain": [
       "<Figure size 432x288 with 1 Axes>"
      ]
     },
     "metadata": {
      "needs_background": "light"
     },
     "output_type": "display_data"
    }
   ],
   "source": [
    "samples = [50,100,200,300,400,500,600,700]\n",
    "cplex = [0.01,0.20,2.39,9.36,27.98,65.56,140.08,  None]\n",
    "gurob = [0.02,0.42,6.91,33.31,113.38,251.72,None, None]\n",
    "trans = [0.04,0.54,6.81,22.85,80.53,200.60,379.14,648.51]\n",
    "unary = [0.07,0.81,6.32,14.12,69.23,170.45,265.98,417.42]\n",
    "binar = [0.12,0.79,6.06,12.79,56.67,121.76,229.31,375.54]\n",
    "cplex_line, = plt.plot(samples, cplex, label='ILP-CPLEX')\n",
    "plt.plot(600, 140.08, marker='x', c=cplex_line.get_color())\n",
    "gurob_line, = plt.plot(samples, gurob, label='ILP-Gurobi')\n",
    "plt.plot(500, 251.72, marker='x', c=gurob_line.get_color())\n",
    "plt.plot(samples, trans, label='MaxSAT-Transitive')\n",
    "plt.plot(samples, unary, label='MaxSAT-Unary')\n",
    "plt.plot(samples, binar, label='MaxSAT-Binary')\n",
    "plt.xlabel('samples')\n",
    "plt.ylabel('time (s)')\n",
    "plt.legend()\n",
    "plt.title('Execution Time')\n",
    "plt.show()"
   ]
  },
  {
   "cell_type": "code",
   "execution_count": 27,
   "metadata": {},
   "outputs": [
    {
     "data": {
      "image/png": "[encoded data removed]",
      "text/plain": [
       "<Figure size 432x288 with 1 Axes>"
      ]
     },
     "metadata": {
      "needs_background": "light"
     },
     "output_type": "display_data"
    }
   ],
   "source": [
    "samples = [50,100,200,300,400,500,600,700]\n",
    "cplex = [None,None,302,1038,2444,5593,10699,None]\n",
    "gurob = [None,None,425,1480,3643,7241,None,None]\n",
    "trans = [13.66,21.80,91.75,336.73,543.36,1059.09,2227.91,3830.15]\n",
    "unary = [17.12,32.61,92.16,187.04,342.77,513.50,735.01,924.57]\n",
    "binar = [16.82,33.40,95.45,210.08,318.43,491.46,729.07,891.93]\n",
    "cplex_line, = plt.plot(samples, cplex, label='ILP-CPLEX')\n",
    "plt.plot(600, 10699, marker='x', c=cplex_line.get_color())\n",
    "gurob_line, = plt.plot(samples, gurob, label='ILP-Gurobi')\n",
    "plt.plot(500, 7241, marker='x', c=gurob_line.get_color())\n",
    "plt.plot(samples, trans, label='MaxSAT-Transitive')\n",
    "plt.plot(samples, unary, label='MaxSAT-Unary')\n",
    "plt.plot(samples, binar, label='MaxSAT-Binary')\n",
    "plt.xlabel('samples')\n",
    "plt.ylabel('memory (MB)')\n",
    "plt.legend()\n",
    "plt.title('Memory Usage')\n",
    "plt.show()"
   ]
  },
  {
   "cell_type": "markdown",
   "metadata": {},
   "source": [
    "As can be seen here, the MaxSat algorithms utilize far less memory than ILP. As expected, limiting the maximum number of clusters using the unary or binary MaxSat encodings significantly reduces memory usage. While ILP-CPLEX was faster for smaller data sets, memory consumption becomes prohibitive for larger data sets. The reduced memory consumption of MaxSAT algorithms allows us to solve problems on larger data sets without exhausting resources."
   ]
  },
  {
   "cell_type": "markdown",
   "metadata": {},
   "source": [
    "**References**\n",
    "\n",
    "Bansal, Nikhil, Avrim Blum, and Shuchi Chawla. 2004. “Correlation Clustering.” *Mach. Learn.* 56 (1-3): 89–113. doi:10.1023/B:MACH.0000033116.57574.95.\n",
    "\n",
    "Berg, Jeremias, and Matti Järvisalo. 2017. “Cost-Optimal Constrained Correlation Clustering via Weighted Partial Maximum Satisfiability.” *Artificial Intelligence* 244: 110–42. doi:10.1016/j.artint.2015.07.001."
   ]
  },
  {
   "cell_type": "code",
   "execution_count": null,
   "metadata": {},
   "outputs": [],
   "source": []
  }
 ],
 "metadata": {
  "cite2c": {
   "citations": {
    "7765392/6HBV4DQ9": {
     "DOI": "10.1016/j.artint.2015.07.001",
     "URL": "https://linkinghub.elsevier.com/retrieve/pii/S0004370215001022",
     "abstract": "Integration of the ﬁelds of constraint solving and data mining and machine learning has recently been identiﬁed within the AI community as an important research direction with high potential. This work contributes to this direction by providing a ﬁrst study on the applicability of state-of-the-art Boolean optimization procedures to cost-optimal correlation clustering under constraints in a general similarity-based setting. We develop exact formulations of the correlation clustering task as Maximum Satisﬁability (MaxSAT), the optimization version of the Boolean satisﬁability (SAT) problem. For obtaining cost-optimal clusterings, we apply a state-of-the-art MaxSAT solver for solving the resulting MaxSAT instances optimally, resulting in cost-optimal clusterings. We experimentally evaluate the MaxSAT-based approaches to cost-optimal correlation clustering, both on the scalability of our method and the quality of the clusterings obtained. Furthermore, we show how the approach extends to constrained correlation clustering, where additional user knowledge is imposed as constraints on the optimal clusterings of interest. We show experimentally that added user knowledge allows clustering larger datasets, and at the same time tends to decrease the running time of our approach. We also investigate the effects of MaxSAT-level preprocessing, symmetry breaking, and the choice of the MaxSAT solver on the efﬁciency of the approach.",
     "accessed": {
      "day": 16,
      "month": 4,
      "year": 2020
     },
     "author": [
      {
       "family": "Berg",
       "given": "Jeremias"
      },
      {
       "family": "Järvisalo",
       "given": "Matti"
      }
     ],
     "container-title": "Artificial Intelligence",
     "container-title-short": "Artificial Intelligence",
     "id": "7765392/6HBV4DQ9",
     "issued": {
      "year": 2017
     },
     "journalAbbreviation": "Artificial Intelligence",
     "language": "en",
     "page": "110-142",
     "page-first": "110",
     "title": "Cost-optimal constrained correlation clustering via weighted partial Maximum Satisfiability",
     "type": "article-journal",
     "volume": "244"
    },
    "7765392/HTRNQ2G7": {
     "ISBN": "978-3-540-40770-6 978-3-540-45198-3",
     "URL": "http://link.springer.com/10.1007/978-3-540-45198-3_1",
     "abstract": "We consider the following general correlation-clustering problem [1]: given a graph with real edge weights (both positive and negative), partition the vertices into clusters to minimize the total absolute weight of cut positive edges and uncut negative edges. Thus, large positive weights (representing strong correlations between endpoints) encourage those endpoints to belong to a common cluster; large negative weights encourage the endpoints to belong to diﬀerent clusters; and weights with small absolute value represent little information. In contrast to most clustering problems, correlation clustering speciﬁes neither the desired number of clusters nor a distance threshold for clustering; both of these parameters are eﬀectively chosen to be the best possible by the problem deﬁnition.",
     "accessed": {
      "day": 16,
      "month": 4,
      "year": 2020
     },
     "author": [
      {
       "family": "Demaine",
       "given": "Erik D."
      },
      {
       "family": "Immorlica",
       "given": "Nicole"
      }
     ],
     "collection-editor": [
      {
       "family": "Goos",
       "given": "Gerhard"
      },
      {
       "family": "Hartmanis",
       "given": "Juris"
      },
      {
       "family": "van Leeuwen",
       "given": "Jan"
      }
     ],
     "container-title": "Approximation, Randomization, and Combinatorial Optimization.. Algorithms and Techniques",
     "editor": [
      {
       "family": "Arora",
       "given": "Sanjeev"
      },
      {
       "family": "Jansen",
       "given": "Klaus"
      },
      {
       "family": "Rolim",
       "given": "José D. P."
      },
      {
       "family": "Sahai",
       "given": "Amit"
      }
     ],
     "event-place": "Berlin, Heidelberg",
     "id": "7765392/HTRNQ2G7",
     "issued": {
      "year": 2003
     },
     "language": "en",
     "note": "Series Title: Lecture Notes in Computer Science\nDOI: 10.1007/978-3-540-45198-3_1",
     "page": "1-13",
     "page-first": "1",
     "publisher": "Springer Berlin Heidelberg",
     "publisher-place": "Berlin, Heidelberg",
     "title": "Correlation Clustering with Partial Information",
     "type": "chapter",
     "volume": "2764"
    },
    "7765392/S23E2LPM": {
     "DOI": "10.1023/B:MACH.0000033116.57574.95",
     "abstract": "We consider the following clustering problem: we have a complete graph on n vertices (items), where each edge (u, v) is labeled either + or − depending on whether u and v have been deemed to be similar or different. The goal is to produce a partition of the vertices (a clustering) that agrees as much as possible with the edge labels. That is, we want a clustering that maximizes the number of + edges within clusters, plus the number of − edges between clusters (equivalently, minimizes the number of disagreements: the number of − edges inside clusters plus the number of + edges between clusters). This formulation is motivated from a document clustering problem in which one has a pairwise similarity function f learned from past data, and the goal is to partition the current set of documents in a way that correlates with f as much as possible; it can also be viewed as a kind of “agnostic learning” problem.",
     "author": [
      {
       "family": "Bansal",
       "given": "Nikhil"
      },
      {
       "family": "Blum",
       "given": "Avrim"
      },
      {
       "family": "Chawla",
       "given": "Shuchi"
      }
     ],
     "container-title": "Mach. Learn.",
     "id": "7765392/S23E2LPM",
     "issue": "1-3",
     "issued": {
      "month": 6,
      "year": 2004
     },
     "language": "en",
     "page": "89-113",
     "page-first": "89",
     "title": "Correlation Clustering",
     "type": "article-journal",
     "volume": "56"
    }
   }
  },
  "kernelspec": {
   "display_name": "Python 3",
   "language": "python",
   "name": "python3"
  },
  "language_info": {
   "codemirror_mode": {
    "name": "ipython",
    "version": 3
   },
   "file_extension": ".py",
   "mimetype": "text/x-python",
   "name": "python",
   "nbconvert_exporter": "python",
   "pygments_lexer": "ipython3",
   "version": "3.6.10"
  }
 },
 "nbformat": 4,
 "nbformat_minor": 4
}
